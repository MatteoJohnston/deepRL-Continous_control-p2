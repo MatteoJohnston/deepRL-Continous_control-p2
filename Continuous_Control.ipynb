{
 "cells": [
  {
   "cell_type": "markdown",
   "metadata": {},
   "source": [
    "# Continuous Control\n",
    "\n",
    "---\n",
    "\n",
    "In this notebook, you will learn how to use the Unity ML-Agents environment for the second project of the [Deep Reinforcement Learning Nanodegree](https://www.udacity.com/course/deep-reinforcement-learning-nanodegree--nd893) program.\n",
    "\n",
    "### 1. Start the Environment\n",
    "\n",
    "We begin by importing the necessary packages.  If the code cell below returns an error, please revisit the project instructions to double-check that you have installed [Unity ML-Agents](https://github.com/Unity-Technologies/ml-agents/blob/master/docs/Installation.md) and [NumPy](http://www.numpy.org/)."
   ]
  },
  {
   "cell_type": "code",
   "execution_count": 1,
   "metadata": {},
   "outputs": [],
   "source": [
    "from unityagents import UnityEnvironment\n",
    "import numpy as np\n",
    "import torch\n",
    "import random\n",
    "import time\n",
    "\n",
    "import matplotlib.pyplot as plt\n",
    "\n",
    "from collections import deque\n",
    "from ddpg_agent_new import Agent"
   ]
  },
  {
   "cell_type": "markdown",
   "metadata": {},
   "source": [
    "Next, we will start the environment!  **_Before running the code cell below_**, change the `file_name` parameter to match the location of the Unity environment that you downloaded.\n",
    "\n",
    "- **Mac**: `\"path/to/Reacher.app\"`\n",
    "- **Windows** (x86): `\"path/to/Reacher_Windows_x86/Reacher.exe\"`\n",
    "- **Windows** (x86_64): `\"path/to/Reacher_Windows_x86_64/Reacher.exe\"`\n",
    "- **Linux** (x86): `\"path/to/Reacher_Linux/Reacher.x86\"`\n",
    "- **Linux** (x86_64): `\"path/to/Reacher_Linux/Reacher.x86_64\"`\n",
    "- **Linux** (x86, headless): `\"path/to/Reacher_Linux_NoVis/Reacher.x86\"`\n",
    "- **Linux** (x86_64, headless): `\"path/to/Reacher_Linux_NoVis/Reacher.x86_64\"`\n",
    "\n",
    "For instance, if you are using a Mac, then you downloaded `Reacher.app`.  If this file is in the same folder as the notebook, then the line below should appear as follows:\n",
    "```\n",
    "env = UnityEnvironment(file_name=\"Reacher.app\")\n",
    "```"
   ]
  },
  {
   "cell_type": "code",
   "execution_count": 2,
   "metadata": {},
   "outputs": [
    {
     "name": "stderr",
     "output_type": "stream",
     "text": [
      "INFO:unityagents:\n",
      "'Academy' started successfully!\n",
      "Unity Academy name: Academy\n",
      "        Number of Brains: 1\n",
      "        Number of External Brains : 1\n",
      "        Lesson number : 0\n",
      "        Reset Parameters :\n",
      "\t\tgoal_size -> 5.0\n",
      "\t\tgoal_speed -> 1.0\n",
      "Unity brain name: ReacherBrain\n",
      "        Number of Visual Observations (per agent): 0\n",
      "        Vector Observation space type: continuous\n",
      "        Vector Observation space size (per agent): 33\n",
      "        Number of stacked Vector Observation: 1\n",
      "        Vector Action space type: continuous\n",
      "        Vector Action space size (per agent): 4\n",
      "        Vector Action descriptions: , , , \n"
     ]
    }
   ],
   "source": [
    "env = UnityEnvironment(file_name='/home/matteojohnston/deep-reinforcement-learning/p2_continuous-control/Reacher_Linux_NoVis/Reacher.x86_64', seed=10)"
   ]
  },
  {
   "cell_type": "markdown",
   "metadata": {},
   "source": [
    "Environments contain **_brains_** which are responsible for deciding the actions of their associated agents. Here we check for the first brain available, and set it as the default brain we will be controlling from Python."
   ]
  },
  {
   "cell_type": "code",
   "execution_count": 3,
   "metadata": {},
   "outputs": [],
   "source": [
    "# get the default brain\n",
    "brain_name = env.brain_names[0]\n",
    "brain = env.brains[brain_name]"
   ]
  },
  {
   "cell_type": "markdown",
   "metadata": {},
   "source": [
    "### 2. Examine the State and Action Spaces\n",
    "\n",
    "In this environment, a double-jointed arm can move to target locations. A reward of `+0.1` is provided for each step that the agent's hand is in the goal location. Thus, the goal of your agent is to maintain its position at the target location for as many time steps as possible.\n",
    "\n",
    "The observation space consists of `33` variables corresponding to position, rotation, velocity, and angular velocities of the arm.  Each action is a vector with four numbers, corresponding to torque applicable to two joints.  Every entry in the action vector must be a number between `-1` and `1`.\n",
    "\n",
    "Run the code cell below to print some information about the environment."
   ]
  },
  {
   "cell_type": "code",
   "execution_count": 4,
   "metadata": {},
   "outputs": [
    {
     "name": "stdout",
     "output_type": "stream",
     "text": [
      "Number of agents: 20\n",
      "Size of each action: 4\n",
      "There are 20 agents. Each observes a state with length: 33\n",
      "The state for the first agent looks like: [ 0.00000000e+00 -4.00000000e+00  0.00000000e+00  1.00000000e+00\n",
      " -0.00000000e+00 -0.00000000e+00 -4.37113883e-08  0.00000000e+00\n",
      "  0.00000000e+00  0.00000000e+00  0.00000000e+00  0.00000000e+00\n",
      "  0.00000000e+00  0.00000000e+00 -1.00000000e+01  0.00000000e+00\n",
      "  1.00000000e+00 -0.00000000e+00 -0.00000000e+00 -4.37113883e-08\n",
      "  0.00000000e+00  0.00000000e+00  0.00000000e+00  0.00000000e+00\n",
      "  0.00000000e+00  0.00000000e+00  5.58052063e-01 -1.00000000e+00\n",
      " -7.98051453e+00  0.00000000e+00  1.00000000e+00  0.00000000e+00\n",
      "  5.63595533e-01]\n"
     ]
    }
   ],
   "source": [
    "# reset the environment\n",
    "env_info = env.reset(train_mode=True)[brain_name]\n",
    "\n",
    "# number of agents\n",
    "num_agents = len(env_info.agents)\n",
    "print('Number of agents:', num_agents)\n",
    "\n",
    "# size of each action\n",
    "action_size = brain.vector_action_space_size\n",
    "print('Size of each action:', action_size)\n",
    "\n",
    "# examine the state space \n",
    "states = env_info.vector_observations\n",
    "state_size = states.shape[1]\n",
    "print('There are {} agents. Each observes a state with length: {}'.format(states.shape[0], state_size))\n",
    "print('The state for the first agent looks like:', states[0])"
   ]
  },
  {
   "cell_type": "markdown",
   "metadata": {},
   "source": [
    "### 3. Take Random Actions in the Environment\n",
    "\n",
    "In the next code cell, you will learn how to use the Python API to control the agent and receive feedback from the environment.\n",
    "\n",
    "Once this cell is executed, you will watch the agent's performance, if it selects an action at random with each time step.  A window should pop up that allows you to observe the agent, as it moves through the environment.  \n",
    "\n",
    "Of course, as part of the project, you'll have to change the code so that the agent is able to use its experience to gradually choose better actions when interacting with the environment!"
   ]
  },
  {
   "cell_type": "code",
   "execution_count": 5,
   "metadata": {},
   "outputs": [
    {
     "name": "stdout",
     "output_type": "stream",
     "text": [
      "Total score (averaged over agents) this episode: 0.16199999637901782\n"
     ]
    }
   ],
   "source": [
    "env_info = env.reset(train_mode=False)[brain_name]     # reset the environment    \n",
    "states = env_info.vector_observations                  # get the current state (for each agent)\n",
    "scores = np.zeros(num_agents)                          # initialize the score (for each agent)\n",
    "while True:\n",
    "    actions = np.random.randn(num_agents, action_size) # select an action (for each agent)\n",
    "    actions = np.clip(actions, -1, 1)                  # all actions between -1 and 1\n",
    "    env_info = env.step(actions)[brain_name]           # send all actions to tne environment\n",
    "    next_states = env_info.vector_observations         # get next state (for each agent)\n",
    "    rewards = env_info.rewards                         # get reward (for each agent)\n",
    "    dones = env_info.local_done                        # see if episode finished\n",
    "    scores += env_info.rewards                         # update the score (for each agent)\n",
    "    states = next_states                               # roll over states to next time step\n",
    "    if np.any(dones):                                  # exit loop if episode finished\n",
    "        break\n",
    "print('Total score (averaged over agents) this episode: {}'.format(np.mean(scores)))"
   ]
  },
  {
   "cell_type": "markdown",
   "metadata": {},
   "source": [
    "When finished, you can close the environment."
   ]
  },
  {
   "cell_type": "code",
   "execution_count": 7,
   "metadata": {},
   "outputs": [],
   "source": [
    "env_info = env.reset(train_mode=True)[brain_name]"
   ]
  },
  {
   "cell_type": "markdown",
   "metadata": {},
   "source": [
    "### 4. It's Your Turn!\n",
    "\n",
    "Now it's your turn to train your own agent to solve the environment!  When training the environment, set `train_mode=True`, so that the line for resetting the environment looks like the following:\n",
    "```python\n",
    "env_info = env.reset(train_mode=True)[brain_name]\n",
    "```"
   ]
  },
  {
   "cell_type": "code",
   "execution_count": 5,
   "metadata": {},
   "outputs": [],
   "source": [
    "# DDPG function\n",
    "\n",
    "def DDPG(n_episodes=1000, max_t=1000, solved_score=30.0, consec_episodes=100, print_every=1, train_mode=True,\n",
    "         actor_path='checkpoint_actor.pth', critic_path='checkpoint_critic.pth'):\n",
    "\n",
    "\n",
    "    mean_scores = []                               # list of mean scores from each episode\n",
    "    scores_window = deque(maxlen=consec_episodes)  # mean scores from most recent episodes\n",
    "    moving_avgs = []                               # list of moving averages\n",
    "    \n",
    "    for i_episode in range(1, n_episodes+1):\n",
    "        env_info = env.reset(train_mode=train_mode)[brain_name] # reset environment\n",
    "        states = env_info.vector_observations                   # get current state for each agent      \n",
    "        scores = np.zeros(num_agents)                           # initialize score for each agent\n",
    "        agent.reset()\n",
    "        start_time = time.time()\n",
    "        for t in range(max_t):\n",
    "            actions = agent.act(states, add_noise=True)         # select an action\n",
    "            env_info = env.step(actions)[brain_name]            # send actions to environment\n",
    "            next_states = env_info.vector_observations          # get next state\n",
    "            rewards = env_info.rewards                          # get reward\n",
    "            dones = env_info.local_done                         # see if episode has finished\n",
    "            # save experience to replay buffer, perform learning step at defined interval\n",
    "            for state, action, reward, next_state, done in zip(states, actions, rewards, next_states, dones):\n",
    "                agent.step(state, action, reward, next_state, done, t)             \n",
    "            states = next_states\n",
    "            scores += rewards        \n",
    "            if np.any(dones):                                   # exit loop when episode ends\n",
    "                break\n",
    "        duration = time.time() - start_time \n",
    "        mean_scores.append(np.mean(scores))           # save mean score for the episode\n",
    "        scores_window.append(mean_scores[-1])         # save mean score to window\n",
    "        moving_avgs.append(np.mean(scores_window))    # save moving average\n",
    "                \n",
    "        if i_episode % print_every == 0:\n",
    "            print('\\rEpisode {} ({} sec)  \\tMean: {:.1f}\\tMov. Avg: {:.1f}'.format(\\\n",
    "                  i_episode,  round(duration), mean_scores[-1], moving_avgs[-1]))\n",
    "                  \n",
    "        if moving_avgs[-1] >= solved_score and i_episode >= consec_episodes:\n",
    "            print('\\nEnvironment SOLVED in {} episodes!\\tMoving Average ={:.1f} over last {} episodes'.format(\\\n",
    "                                    i_episode-consec_episodes, moving_avgs[-1], consec_episodes))            \n",
    "            if train_mode:\n",
    "                torch.save(agent.actor_local.state_dict(), actor_path)\n",
    "                torch.save(agent.critic_local.state_dict(), critic_path)  \n",
    "            break\n",
    "            \n",
    "    return mean_scores"
   ]
  },
  {
   "cell_type": "code",
   "execution_count": 6,
   "metadata": {
    "scrolled": true
   },
   "outputs": [
    {
     "name": "stdout",
     "output_type": "stream",
     "text": [
      "Episode 1 (275 sec)  \tMean: 0.6\tMov. Avg: 0.6\n",
      "Episode 2 (285 sec)  \tMean: 2.1\tMov. Avg: 1.3\n",
      "Episode 3 (283 sec)  \tMean: 2.8\tMov. Avg: 1.8\n",
      "Episode 4 (282 sec)  \tMean: 4.7\tMov. Avg: 2.5\n",
      "Episode 5 (283 sec)  \tMean: 8.2\tMov. Avg: 3.7\n",
      "Episode 6 (290 sec)  \tMean: 11.6\tMov. Avg: 5.0\n",
      "Episode 7 (293 sec)  \tMean: 13.0\tMov. Avg: 6.1\n",
      "Episode 8 (294 sec)  \tMean: 16.9\tMov. Avg: 7.5\n",
      "Episode 9 (299 sec)  \tMean: 18.3\tMov. Avg: 8.7\n",
      "Episode 10 (302 sec)  \tMean: 21.8\tMov. Avg: 10.0\n",
      "Episode 11 (305 sec)  \tMean: 26.0\tMov. Avg: 11.4\n",
      "Episode 12 (308 sec)  \tMean: 31.4\tMov. Avg: 13.1\n",
      "Episode 13 (309 sec)  \tMean: 34.1\tMov. Avg: 14.7\n",
      "Episode 14 (311 sec)  \tMean: 34.6\tMov. Avg: 16.1\n",
      "Episode 15 (314 sec)  \tMean: 35.3\tMov. Avg: 17.4\n",
      "Episode 16 (316 sec)  \tMean: 35.9\tMov. Avg: 18.6\n",
      "Episode 17 (318 sec)  \tMean: 36.2\tMov. Avg: 19.6\n",
      "Episode 18 (320 sec)  \tMean: 35.9\tMov. Avg: 20.5\n",
      "Episode 19 (322 sec)  \tMean: 37.1\tMov. Avg: 21.4\n",
      "Episode 20 (326 sec)  \tMean: 35.5\tMov. Avg: 22.1\n",
      "Episode 21 (327 sec)  \tMean: 38.0\tMov. Avg: 22.9\n",
      "Episode 22 (331 sec)  \tMean: 37.7\tMov. Avg: 23.5\n",
      "Episode 23 (331 sec)  \tMean: 36.9\tMov. Avg: 24.1\n",
      "Episode 24 (334 sec)  \tMean: 38.4\tMov. Avg: 24.7\n",
      "Episode 25 (335 sec)  \tMean: 38.8\tMov. Avg: 25.3\n",
      "Episode 26 (337 sec)  \tMean: 37.0\tMov. Avg: 25.7\n",
      "Episode 27 (339 sec)  \tMean: 36.8\tMov. Avg: 26.1\n",
      "Episode 28 (343 sec)  \tMean: 35.2\tMov. Avg: 26.5\n",
      "Episode 29 (346 sec)  \tMean: 33.0\tMov. Avg: 26.7\n",
      "Episode 30 (348 sec)  \tMean: 28.3\tMov. Avg: 26.7\n",
      "Episode 31 (352 sec)  \tMean: 21.6\tMov. Avg: 26.6\n",
      "Episode 32 (355 sec)  \tMean: 15.2\tMov. Avg: 26.2\n",
      "Episode 33 (359 sec)  \tMean: 13.4\tMov. Avg: 25.8\n",
      "Episode 34 (359 sec)  \tMean: 11.9\tMov. Avg: 25.4\n",
      "Episode 35 (361 sec)  \tMean: 11.3\tMov. Avg: 25.0\n",
      "Episode 36 (362 sec)  \tMean: 14.9\tMov. Avg: 24.7\n",
      "Episode 37 (368 sec)  \tMean: 14.1\tMov. Avg: 24.4\n",
      "Episode 38 (369 sec)  \tMean: 11.5\tMov. Avg: 24.1\n",
      "Episode 39 (374 sec)  \tMean: 12.7\tMov. Avg: 23.8\n",
      "Episode 40 (379 sec)  \tMean: 13.5\tMov. Avg: 23.6\n",
      "Episode 41 (378 sec)  \tMean: 17.2\tMov. Avg: 23.4\n",
      "Episode 42 (383 sec)  \tMean: 19.5\tMov. Avg: 23.3\n",
      "Episode 43 (389 sec)  \tMean: 18.7\tMov. Avg: 23.2\n",
      "Episode 44 (393 sec)  \tMean: 19.6\tMov. Avg: 23.1\n",
      "Episode 45 (394 sec)  \tMean: 20.9\tMov. Avg: 23.1\n",
      "Episode 46 (397 sec)  \tMean: 22.1\tMov. Avg: 23.0\n",
      "Episode 47 (402 sec)  \tMean: 29.0\tMov. Avg: 23.2\n",
      "Episode 48 (406 sec)  \tMean: 25.8\tMov. Avg: 23.2\n",
      "Episode 49 (411 sec)  \tMean: 27.4\tMov. Avg: 23.3\n",
      "Episode 50 (414 sec)  \tMean: 25.4\tMov. Avg: 23.4\n",
      "Episode 51 (417 sec)  \tMean: 30.1\tMov. Avg: 23.5\n",
      "Episode 52 (416 sec)  \tMean: 29.7\tMov. Avg: 23.6\n",
      "Episode 53 (418 sec)  \tMean: 29.5\tMov. Avg: 23.7\n",
      "Episode 54 (419 sec)  \tMean: 21.7\tMov. Avg: 23.7\n",
      "Episode 55 (419 sec)  \tMean: 19.7\tMov. Avg: 23.6\n",
      "Episode 56 (419 sec)  \tMean: 21.0\tMov. Avg: 23.6\n",
      "Episode 57 (420 sec)  \tMean: 32.3\tMov. Avg: 23.7\n",
      "Episode 58 (420 sec)  \tMean: 31.0\tMov. Avg: 23.8\n",
      "Episode 59 (418 sec)  \tMean: 36.0\tMov. Avg: 24.0\n",
      "Episode 60 (418 sec)  \tMean: 35.3\tMov. Avg: 24.2\n",
      "Episode 61 (420 sec)  \tMean: 36.3\tMov. Avg: 24.4\n",
      "Episode 62 (419 sec)  \tMean: 37.4\tMov. Avg: 24.6\n",
      "Episode 63 (418 sec)  \tMean: 35.3\tMov. Avg: 24.8\n",
      "Episode 64 (420 sec)  \tMean: 37.4\tMov. Avg: 25.0\n",
      "Episode 65 (420 sec)  \tMean: 37.3\tMov. Avg: 25.2\n",
      "Episode 66 (419 sec)  \tMean: 38.0\tMov. Avg: 25.4\n",
      "Episode 67 (419 sec)  \tMean: 37.9\tMov. Avg: 25.6\n",
      "Episode 68 (420 sec)  \tMean: 37.7\tMov. Avg: 25.8\n",
      "Episode 69 (420 sec)  \tMean: 37.8\tMov. Avg: 25.9\n",
      "Episode 70 (421 sec)  \tMean: 37.9\tMov. Avg: 26.1\n",
      "Episode 71 (420 sec)  \tMean: 38.8\tMov. Avg: 26.3\n",
      "Episode 72 (420 sec)  \tMean: 38.5\tMov. Avg: 26.4\n",
      "Episode 73 (420 sec)  \tMean: 39.0\tMov. Avg: 26.6\n",
      "Episode 74 (420 sec)  \tMean: 39.2\tMov. Avg: 26.8\n",
      "Episode 75 (421 sec)  \tMean: 38.7\tMov. Avg: 26.9\n",
      "Episode 76 (420 sec)  \tMean: 39.1\tMov. Avg: 27.1\n",
      "Episode 77 (421 sec)  \tMean: 38.1\tMov. Avg: 27.3\n",
      "Episode 78 (420 sec)  \tMean: 39.0\tMov. Avg: 27.4\n",
      "Episode 79 (421 sec)  \tMean: 39.1\tMov. Avg: 27.6\n",
      "Episode 80 (420 sec)  \tMean: 39.1\tMov. Avg: 27.7\n",
      "Episode 81 (420 sec)  \tMean: 39.1\tMov. Avg: 27.8\n",
      "Episode 82 (421 sec)  \tMean: 39.2\tMov. Avg: 28.0\n",
      "Episode 83 (420 sec)  \tMean: 38.8\tMov. Avg: 28.1\n",
      "Episode 84 (420 sec)  \tMean: 39.1\tMov. Avg: 28.2\n",
      "Episode 85 (420 sec)  \tMean: 39.1\tMov. Avg: 28.4\n",
      "Episode 86 (421 sec)  \tMean: 38.9\tMov. Avg: 28.5\n",
      "Episode 87 (421 sec)  \tMean: 39.2\tMov. Avg: 28.6\n",
      "Episode 88 (428 sec)  \tMean: 39.2\tMov. Avg: 28.7\n",
      "Episode 89 (420 sec)  \tMean: 38.9\tMov. Avg: 28.8\n",
      "Episode 90 (420 sec)  \tMean: 39.2\tMov. Avg: 29.0\n",
      "Episode 91 (420 sec)  \tMean: 39.1\tMov. Avg: 29.1\n",
      "Episode 92 (421 sec)  \tMean: 38.8\tMov. Avg: 29.2\n",
      "Episode 93 (421 sec)  \tMean: 39.0\tMov. Avg: 29.3\n",
      "Episode 94 (421 sec)  \tMean: 38.9\tMov. Avg: 29.4\n",
      "Episode 95 (421 sec)  \tMean: 39.2\tMov. Avg: 29.5\n",
      "Episode 96 (421 sec)  \tMean: 38.7\tMov. Avg: 29.6\n",
      "Episode 97 (424 sec)  \tMean: 38.9\tMov. Avg: 29.7\n",
      "Episode 98 (423 sec)  \tMean: 38.1\tMov. Avg: 29.8\n",
      "Episode 99 (424 sec)  \tMean: 38.8\tMov. Avg: 29.9\n",
      "Episode 100 (425 sec)  \tMean: 38.7\tMov. Avg: 29.9\n",
      "Episode 101 (422 sec)  \tMean: 38.5\tMov. Avg: 30.3\n",
      "\n",
      "Environment SOLVED in 1 episodes!\tMoving Average =30.3 over last 100 episodes\n"
     ]
    },
    {
     "data": {
      "image/png": "[encoded data removed]",
      "text/plain": [
       "<Figure size 432x288 with 1 Axes>"
      ]
     },
     "metadata": {
      "needs_background": "light"
     },
     "output_type": "display_data"
    }
   ],
   "source": [
    "# run the training loop\n",
    "agent = Agent(state_size=state_size, action_size=action_size, random_seed=2)\n",
    "scores = DDPG()\n",
    "\n",
    "# plot the scores\n",
    "fig = plt.figure()\n",
    "ax = fig.add_subplot(111)\n",
    "plt.plot(np.arange(len(scores)), scores, label='DDPG')\n",
    "plt.ylabel('Score')\n",
    "plt.xlabel('Episode #')\n",
    "plt.legend(loc='upper left');\n",
    "plt.show()"
   ]
  },
  {
   "cell_type": "code",
   "execution_count": null,
   "metadata": {},
   "outputs": [],
   "source": []
  }
 ],
 "metadata": {
  "kernelspec": {
   "display_name": "drlnd",
   "language": "python",
   "name": "drlnd"
  },
  "language_info": {
   "codemirror_mode": {
    "name": "ipython",
    "version": 3
   },
   "file_extension": ".py",
   "mimetype": "text/x-python",
   "name": "python",
   "nbconvert_exporter": "python",
   "pygments_lexer": "ipython3",
   "version": "3.6.8"
  }
 },
 "nbformat": 4,
 "nbformat_minor": 2
}
